{
 "cells": [
  {
   "cell_type": "code",
   "execution_count": 1,
   "id": "4d9b86eb",
   "metadata": {},
   "outputs": [],
   "source": [
    "import numpy as np\n",
    "from skimage.filters import gaussian\n",
    "\n",
    "def fspecial_gaussian_2d(size, sigma):\n",
    "    kernel = np.zeros(tuple(size))\n",
    "    kernel[size[0]//2, size[1]//2] = 1\n",
    "    kernel = gaussian(kernel, sigma)\n",
    "    return kernel/np.sum(kernel)\n",
    "\n",
    "def bilateral2d(img, radius, sigma, sigmaIntensity):\n",
    "    pad = radius\n",
    "    # Initialize filtered image to 0\n",
    "    out = np.zeros_like(img)\n",
    "\n",
    "    # Pad image to reduce boundary artifacts\n",
    "    imgPad = np.pad(img, pad)\n",
    "\n",
    "    # Smoothing kernel, gaussian with standard deviation sigma\n",
    "    # and size (2*radius+1, 2*radius+1)\n",
    "    filtSize = (2*radius + 1, 2*radius + 1)\n",
    "    spatialKernel = fspecial_gaussian_2d(filtSize, sigma)\n",
    "    for y in range(img.shape[0]):\n",
    "        for x in range(img.shape[1]):\n",
    "            patchVals = imgPad[y+pad-radius:y+pad+radius+1, x+pad-radius:x+pad+radius+1]\n",
    "            centerVal = imgPad[y+pad, x+pad]\n",
    "            intensityWeights = np.exp(-((patchVals - centerVal) ** 2) / (2*sigmaIntensity**2))\n",
    "            weights = spatialKernel * intensityWeights / np.sum(spatialKernel * intensityWeights)\n",
    "            out[y, x] = np.sum(patchVals * weights)\n",
    "    return out"
   ]
  },
  {
   "cell_type": "code",
   "execution_count": null,
   "id": "ff36bd34",
   "metadata": {},
   "outputs": [
    {
     "name": "stdout",
     "output_type": "stream",
     "text": [
      "28.567451730854675\n",
      "21.81961840087304\n",
      "24.08259019683647\n",
      "19.10050784192397\n",
      "19.352595621913988\n",
      "16.030178726981966\n",
      "14.959889612681074\n",
      "12.87117062446307\n",
      "12.314803849372984\n",
      "9.749682688953916\n",
      "28.926385442352874\n",
      "20.445093795816756\n",
      "24.6960342065055\n",
      "17.55487593247097\n",
      "19.918561294896694\n",
      "14.53639598892562\n",
      "14.222162651877346\n",
      "11.098845058950527\n",
      "10.856794783431283\n",
      "8.035017734106253\n",
      "28.35502918725083\n",
      "21.80847768895875\n",
      "23.451022825540512\n",
      "18.841368425881274\n",
      "18.56477466325684\n",
      "15.868489457895139\n",
      "14.51201037474786\n",
      "12.747782551563454\n",
      "12.078660117063071\n",
      "9.719624429750562\n",
      "27.62890331288094\n",
      "22.797406910022417\n",
      "23.327018174005406\n",
      "19.91377561570072\n",
      "18.407070534104005\n",
      "16.983391198467746\n",
      "14.781946278999133\n",
      "13.961883463365094\n",
      "12.567335406755687\n",
      "11.037717754306211\n",
      "28.49614725473325\n",
      "21.410338425783667\n",
      "23.78178416923301\n",
      "18.759784759950314\n",
      "18.727412324526256\n",
      "15.716081544945107\n"
     ]
    }
   ],
   "source": [
    "from time import process_time\n",
    "import matplotlib.pyplot as plt\n",
    "import skimage.io as io\n",
    "import cv2\n",
    "from skimage.metrics import peak_signal_noise_ratio\n",
    "from tqdm import tqdm\n",
    "\n",
    "pics = [0, 1, 2, 3, 4]\n",
    "sigmas = [0.05, 0.1, 0.2, 0.4, 0.8]\n",
    "dists = ['g', 'p']\n",
    "\n",
    "for p in pics:\n",
    "    clean = io.imread(f'samples/clean/{p}.jpg')\n",
    "    for s in sigmas:\n",
    "        for d in dists:\n",
    "            best_img = np.zeros_like(clean)\n",
    "            best_psnr = -2000\n",
    "            best_sig = 0\n",
    "            for sig in range(1, 200, 5):\n",
    "                noisy = io.imread(f'samples/noisy/{p}-{s}-{d}.jpg')\n",
    "                noisy = np.uint8(noisy)\n",
    "\n",
    "#                 sigmaIntensity = 0.25\n",
    "#                 bilateral = np.zeros_like(noisy)\n",
    "#                 for channel in [0, 1, 2]:\n",
    "#                     bilateral[..., channel] = bilateral2d(noisy[..., channel],\n",
    "#                                                           radius=int(sig),\n",
    "#                                                           sigma=sig,\n",
    "#                                                           sigmaIntensity=sigmaIntensity)\n",
    "\n",
    "                bilateral = cv2.bilateralFilter(noisy, -1, sig, sig)\n",
    "                psnr = peak_signal_noise_ratio(clean, bilateral)\n",
    "                if psnr > best_psnr:\n",
    "                    best_psnr = psnr\n",
    "                    best_img = bilateral\n",
    "                    best_sig = sig\n",
    "            print(best_psnr)\n",
    "            plt.imsave(f'samples/bilateral-denoised/{p}-{s}-{d}.jpg', best_img)"
   ]
  },
  {
   "cell_type": "code",
   "execution_count": 42,
   "id": "c14d2ff2",
   "metadata": {},
   "outputs": [
    {
     "name": "stdout",
     "output_type": "stream",
     "text": [
      "Requirement already satisfied: pip in /Library/Frameworks/Python.framework/Versions/3.10/lib/python3.10/site-packages (22.3.1)\r\n"
     ]
    }
   ],
   "source": [
    "! python3 -m pip install --upgrade pip"
   ]
  },
  {
   "cell_type": "code",
   "execution_count": 49,
   "id": "b0d2bc6f",
   "metadata": {
    "scrolled": true
   },
   "outputs": [
    {
     "name": "stdout",
     "output_type": "stream",
     "text": [
      "\u001b[31mERROR: Could not open requirements file: [Errno 2] No such file or directory: 'psnr_hvsm'\u001b[0m\u001b[31m\n",
      "\u001b[0mNote: you may need to restart the kernel to use updated packages.\n"
     ]
    }
   ],
   "source": [
    "pip install -r psnr_hvsm"
   ]
  },
  {
   "cell_type": "code",
   "execution_count": null,
   "id": "dfbea34d",
   "metadata": {},
   "outputs": [],
   "source": []
  },
  {
   "cell_type": "code",
   "execution_count": null,
   "id": "716c112b",
   "metadata": {},
   "outputs": [],
   "source": []
  }
 ],
 "metadata": {
  "kernelspec": {
   "display_name": "Python 3 (ipykernel)",
   "language": "python",
   "name": "python3"
  },
  "language_info": {
   "codemirror_mode": {
    "name": "ipython",
    "version": 3
   },
   "file_extension": ".py",
   "mimetype": "text/x-python",
   "name": "python",
   "nbconvert_exporter": "python",
   "pygments_lexer": "ipython3",
   "version": "3.10.2"
  }
 },
 "nbformat": 4,
 "nbformat_minor": 5
}
