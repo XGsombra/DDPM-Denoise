{
 "cells": [
  {
   "cell_type": "code",
   "execution_count": 11,
   "id": "cfec9b03",
   "metadata": {},
   "outputs": [],
   "source": [
    "import numpy as np\n",
    "from skimage.filters import gaussian\n",
    "\n",
    "def fspecial_gaussian_2d(size, sigma):\n",
    "    kernel = np.zeros(tuple(size))\n",
    "    kernel[size[0]//2, size[1]//2] = 1\n",
    "    kernel = gaussian(kernel, sigma)\n",
    "    return kernel/np.sum(kernel)\n",
    "\n",
    "def bilateral2d(img, radius, sigma, sigmaIntensity):\n",
    "    pad = radius\n",
    "    # Initialize filtered image to 0\n",
    "    out = np.zeros_like(img)\n",
    "\n",
    "    # Pad image to reduce boundary artifacts\n",
    "    imgPad = np.pad(img, pad)\n",
    "\n",
    "    # Smoothing kernel, gaussian with standard deviation sigma\n",
    "    # and size (2*radius+1, 2*radius+1)\n",
    "    filtSize = (2*radius + 1, 2*radius + 1)\n",
    "    spatialKernel = fspecial_gaussian_2d(filtSize, sigma)\n",
    "    for y in range(img.shape[0]):\n",
    "        for x in range(img.shape[1]):\n",
    "            patchVals = imgPad[y+pad-radius:y+pad+radius+1, x+pad-radius:x+pad+radius+1]\n",
    "            centerVal = imgPad[y+pad, x+pad]\n",
    "            intensityWeights = np.exp(-((patchVals - centerVal) ** 2) / (2*sigmaIntensity**2))\n",
    "            weights = spatialKernel * intensityWeights / np.sum(spatialKernel * intensityWeights)\n",
    "            out[y, x] = np.sum(patchVals * weights)\n",
    "    return out"
   ]
  },
  {
   "cell_type": "code",
   "execution_count": 17,
   "id": "f8a3f774",
   "metadata": {},
   "outputs": [],
   "source": [
    "from time import process_time\n",
    "import matplotlib.pyplot as plt\n",
    "import skimage.io as io\n",
    "\n",
    "pics = [0, 1, 2, 3, 4]\n",
    "sigmas = [0.05, 0.1, 0.2, 0.4, 0.8]\n",
    "dists = ['g', 'p']\n",
    "sigs = [1,2,3]\n",
    "\n",
    "for p in pics:\n",
    "    for s in sigmas:\n",
    "        for d in dists:\n",
    "            for sig in sigs:\n",
    "                noisy = io.imread(f'samples/noisy/{p}-{s}-{d}.jpg').astype(float)/255\n",
    "\n",
    "                sigmaIntensity = 0.25\n",
    "                bilateral = np.zeros_like(noisy)\n",
    "                for channel in [0, 1, 2]:\n",
    "                    bilateral[..., channel] = bilateral2d(noisy[..., channel],\n",
    "                                                          radius=int(sig),\n",
    "                                                          sigma=sig,\n",
    "                                                          sigmaIntensity=sigmaIntensity)\n",
    "                plt.imsave(f'samples/bilateral-denoised/{p}-{s}-{d}-{sig}.jpg', bilateral)"
   ]
  },
  {
   "cell_type": "code",
   "execution_count": null,
   "id": "71cccb4f",
   "metadata": {},
   "outputs": [],
   "source": []
  },
  {
   "cell_type": "code",
   "execution_count": null,
   "id": "4960cb4f",
   "metadata": {},
   "outputs": [],
   "source": []
  }
 ],
 "metadata": {
  "kernelspec": {
   "display_name": "Python 3 (ipykernel)",
   "language": "python",
   "name": "python3"
  },
  "language_info": {
   "codemirror_mode": {
    "name": "ipython",
    "version": 3
   },
   "file_extension": ".py",
   "mimetype": "text/x-python",
   "name": "python",
   "nbconvert_exporter": "python",
   "pygments_lexer": "ipython3",
   "version": "3.10.2"
  }
 },
 "nbformat": 4,
 "nbformat_minor": 5
}
