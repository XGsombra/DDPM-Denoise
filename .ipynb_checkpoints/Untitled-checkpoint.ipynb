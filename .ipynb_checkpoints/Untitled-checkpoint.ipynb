{
 "cells": [
  {
   "cell_type": "code",
   "execution_count": 22,
   "id": "157cbfc6",
   "metadata": {},
   "outputs": [],
   "source": [
    "import numpy as np\n",
    "from skimage.filters import gaussian\n",
    "\n",
    "def fspecial_gaussian_2d(size, sigma):\n",
    "    kernel = np.zeros(tuple(size))\n",
    "    kernel[size[0]//2, size[1]//2] = 1\n",
    "    kernel = gaussian(kernel, sigma)\n",
    "    return kernel/np.sum(kernel)\n",
    "\n",
    "def bilateral2d(img, radius, sigma, sigmaIntensity):\n",
    "    pad = radius\n",
    "    # Initialize filtered image to 0\n",
    "    out = np.zeros_like(img)\n",
    "\n",
    "    # Pad image to reduce boundary artifacts\n",
    "    imgPad = np.pad(img, pad)\n",
    "\n",
    "    # Smoothing kernel, gaussian with standard deviation sigma\n",
    "    # and size (2*radius+1, 2*radius+1)\n",
    "    filtSize = (2*radius + 1, 2*radius + 1)\n",
    "    spatialKernel = fspecial_gaussian_2d(filtSize, sigma)\n",
    "    for y in range(img.shape[0]):\n",
    "        for x in range(img.shape[1]):\n",
    "            patchVals = imgPad[y+pad-radius:y+pad+radius+1, x+pad-radius:x+pad+radius+1]\n",
    "            centerVal = imgPad[y+pad, x+pad]\n",
    "            intensityWeights = np.exp(-((patchVals - centerVal) ** 2) / (2*sigmaIntensity**2))\n",
    "            weights = spatialKernel * intensityWeights / np.sum(spatialKernel * intensityWeights)\n",
    "            out[y, x] = np.sum(patchVals * weights)\n",
    "    return out"
   ]
  },
  {
   "cell_type": "code",
   "execution_count": 50,
   "id": "c669e305",
   "metadata": {},
   "outputs": [
    {
     "ename": "ModuleNotFoundError",
     "evalue": "No module named 'psnr_hvsm'",
     "output_type": "error",
     "traceback": [
      "\u001b[0;31m---------------------------------------------------------------------------\u001b[0m",
      "\u001b[0;31mModuleNotFoundError\u001b[0m                       Traceback (most recent call last)",
      "Cell \u001b[0;32mIn[50], line 5\u001b[0m\n\u001b[1;32m      3\u001b[0m \u001b[38;5;28;01mimport\u001b[39;00m \u001b[38;5;21;01mskimage\u001b[39;00m\u001b[38;5;21;01m.\u001b[39;00m\u001b[38;5;21;01mio\u001b[39;00m \u001b[38;5;28;01mas\u001b[39;00m \u001b[38;5;21;01mio\u001b[39;00m\n\u001b[1;32m      4\u001b[0m \u001b[38;5;28;01mimport\u001b[39;00m \u001b[38;5;21;01mcv2\u001b[39;00m\n\u001b[0;32m----> 5\u001b[0m \u001b[38;5;28;01mfrom\u001b[39;00m \u001b[38;5;21;01mutil\u001b[39;00m \u001b[38;5;28;01mimport\u001b[39;00m calc_psnr_hvsm\n\u001b[1;32m      7\u001b[0m pics \u001b[38;5;241m=\u001b[39m [\u001b[38;5;241m0\u001b[39m, \u001b[38;5;241m1\u001b[39m, \u001b[38;5;241m2\u001b[39m, \u001b[38;5;241m3\u001b[39m, \u001b[38;5;241m4\u001b[39m]\n\u001b[1;32m      8\u001b[0m sigmas \u001b[38;5;241m=\u001b[39m [\u001b[38;5;241m0.05\u001b[39m, \u001b[38;5;241m0.1\u001b[39m, \u001b[38;5;241m0.2\u001b[39m, \u001b[38;5;241m0.4\u001b[39m, \u001b[38;5;241m0.8\u001b[39m]\n",
      "File \u001b[0;32m~/Library/Mobile Documents/com~apple~CloudDocs/本狗狗/*UT/2529/project/csc2529-project/util.py:7\u001b[0m\n\u001b[1;32m      5\u001b[0m \u001b[38;5;28;01mfrom\u001b[39;00m \u001b[38;5;21;01mglob\u001b[39;00m \u001b[38;5;28;01mimport\u001b[39;00m glob\n\u001b[1;32m      6\u001b[0m \u001b[38;5;28;01mfrom\u001b[39;00m \u001b[38;5;21;01mconstants\u001b[39;00m \u001b[38;5;28;01mimport\u001b[39;00m CHANNEL_NUM, SIZE, CLEAN_DIR, LEVELS, MPRNET_DENOISED_DIR\n\u001b[0;32m----> 7\u001b[0m \u001b[38;5;28;01mfrom\u001b[39;00m \u001b[38;5;21;01mpsnr_hvsm\u001b[39;00m \u001b[38;5;28;01mimport\u001b[39;00m psnr_hvsm\n\u001b[1;32m      8\u001b[0m \u001b[38;5;28;01mfrom\u001b[39;00m \u001b[38;5;21;01mimageio\u001b[39;00m \u001b[38;5;28;01mimport\u001b[39;00m imread\n\u001b[1;32m      9\u001b[0m \u001b[38;5;28;01mfrom\u001b[39;00m \u001b[38;5;21;01mskimage\u001b[39;00m\u001b[38;5;21;01m.\u001b[39;00m\u001b[38;5;21;01mmetrics\u001b[39;00m \u001b[38;5;28;01mimport\u001b[39;00m structural_similarity \u001b[38;5;28;01mas\u001b[39;00m compare_ssim\n",
      "\u001b[0;31mModuleNotFoundError\u001b[0m: No module named 'psnr_hvsm'"
     ]
    }
   ],
   "source": [
    "from time import process_time\n",
    "import matplotlib.pyplot as plt\n",
    "import skimage.io as io\n",
    "import cv2\n",
    "from skimage.metrics import peak_signal_noise_ratio\n",
    "\n",
    "pics = [0, 1, 2, 3, 4]\n",
    "sigmas = [0.05, 0.1, 0.2, 0.4, 0.8]\n",
    "dists = ['g', 'p']\n",
    "\n",
    "for p in pics:\n",
    "    clean = io.imread(f'samples/clean/{p}.jpg')\n",
    "    for s in sigmas:\n",
    "        for d in dists:\n",
    "            best_img = np.zeros_like(noisy)\n",
    "            best_psnr = -2000\n",
    "            best_sig = 0\n",
    "            for sig in range(1, 200, 5):\n",
    "                noisy = io.imread(f'samples/noisy/{p}-{s}-{d}.jpg')\n",
    "                noisy = np.uint8(noisy)\n",
    "\n",
    "#                 sigmaIntensity = 0.25\n",
    "#                 bilateral = np.zeros_like(noisy)\n",
    "#                 for channel in [0, 1, 2]:\n",
    "#                     bilateral[..., channel] = bilateral2d(noisy[..., channel],\n",
    "#                                                           radius=int(sig),\n",
    "#                                                           sigma=sig,\n",
    "#                                                           sigmaIntensity=sigmaIntensity)\n",
    "\n",
    "                bilateral = cv2.bilateralFilter(noisy, -1, 150, 150)\n",
    "                psnr = peak_signal_noise_ratio(clean, bilateral)\n",
    "                if psnr > best_psnr:\n",
    "                    best_psnr = psnr\n",
    "                    best_img = bilateral\n",
    "                    best_sig = sig\n",
    "            print(best_psnr)\n",
    "            plt.imsave(f'samples/bilateral-denoised/{p}-{s}-{d}.jpg', best_img)"
   ]
  },
  {
   "cell_type": "code",
   "execution_count": 42,
   "id": "d25d7026",
   "metadata": {},
   "outputs": [
    {
     "name": "stdout",
     "output_type": "stream",
     "text": [
      "Requirement already satisfied: pip in /Library/Frameworks/Python.framework/Versions/3.10/lib/python3.10/site-packages (22.3.1)\r\n"
     ]
    }
   ],
   "source": [
    "! python3 -m pip install --upgrade pip"
   ]
  },
  {
   "cell_type": "code",
   "execution_count": 49,
   "id": "513f45fc",
   "metadata": {
    "scrolled": true
   },
   "outputs": [
    {
     "name": "stdout",
     "output_type": "stream",
     "text": [
      "\u001b[31mERROR: Could not open requirements file: [Errno 2] No such file or directory: 'psnr_hvsm'\u001b[0m\u001b[31m\n",
      "\u001b[0mNote: you may need to restart the kernel to use updated packages.\n"
     ]
    }
   ],
   "source": [
    "pip install -r psnr_hvsm"
   ]
  },
  {
   "cell_type": "code",
   "execution_count": null,
   "id": "242dc34f",
   "metadata": {},
   "outputs": [],
   "source": []
  },
  {
   "cell_type": "code",
   "execution_count": null,
   "id": "79bb194a",
   "metadata": {},
   "outputs": [],
   "source": []
  }
 ],
 "metadata": {
  "kernelspec": {
   "display_name": "Python 3 (ipykernel)",
   "language": "python",
   "name": "python3"
  },
  "language_info": {
   "codemirror_mode": {
    "name": "ipython",
    "version": 3
   },
   "file_extension": ".py",
   "mimetype": "text/x-python",
   "name": "python",
   "nbconvert_exporter": "python",
   "pygments_lexer": "ipython3",
   "version": "3.10.2"
  }
 },
 "nbformat": 4,
 "nbformat_minor": 5
}
